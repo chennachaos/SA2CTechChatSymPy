{
 "cells": [
  {
   "cell_type": "code",
   "execution_count": 1,
   "metadata": {},
   "outputs": [
    {
     "data": {
      "text/plain": [
       "10.0"
      ]
     },
     "execution_count": 1,
     "metadata": {},
     "output_type": "execute_result"
    }
   ],
   "source": [
    "# Symbolic computation is the task of computation of mathematical objects symbolically, \n",
    "# meaning that the objects are represented exactly, not approximately.\n",
    "\n",
    "import math\n",
    "math.sqrt(100)"
   ]
  },
  {
   "cell_type": "code",
   "execution_count": 3,
   "metadata": {},
   "outputs": [
    {
     "data": {
      "text/plain": [
       "10"
      ]
     },
     "execution_count": 3,
     "metadata": {},
     "output_type": "execute_result"
    }
   ],
   "source": [
    "import sympy\n",
    "sympy.sqrt(100)"
   ]
  },
  {
   "cell_type": "code",
   "execution_count": 6,
   "metadata": {},
   "outputs": [
    {
     "data": {
      "text/plain": [
       "1.7320508075688772"
      ]
     },
     "execution_count": 6,
     "metadata": {},
     "output_type": "execute_result"
    }
   ],
   "source": [
    "math.sqrt(3)"
   ]
  },
  {
   "cell_type": "code",
   "execution_count": 7,
   "metadata": {},
   "outputs": [
    {
     "data": {
      "text/plain": [
       "sqrt(3)"
      ]
     },
     "execution_count": 7,
     "metadata": {},
     "output_type": "execute_result"
    }
   ],
   "source": [
    "sympy.sqrt(3)"
   ]
  },
  {
   "cell_type": "code",
   "execution_count": 8,
   "metadata": {},
   "outputs": [
    {
     "data": {
      "text/plain": [
       "2.8284271247461903"
      ]
     },
     "execution_count": 8,
     "metadata": {},
     "output_type": "execute_result"
    }
   ],
   "source": [
    "math.sqrt(8)"
   ]
  },
  {
   "cell_type": "code",
   "execution_count": 9,
   "metadata": {},
   "outputs": [
    {
     "data": {
      "text/plain": [
       "2*sqrt(2)"
      ]
     },
     "execution_count": 9,
     "metadata": {},
     "output_type": "execute_result"
    }
   ],
   "source": [
    "sympy.sqrt(8)"
   ]
  },
  {
   "cell_type": "code",
   "execution_count": 13,
   "metadata": {},
   "outputs": [
    {
     "data": {
      "text/plain": [
       "float"
      ]
     },
     "execution_count": 13,
     "metadata": {},
     "output_type": "execute_result"
    }
   ],
   "source": [
    "type(math.sqrt(8))"
   ]
  },
  {
   "cell_type": "code",
   "execution_count": 12,
   "metadata": {},
   "outputs": [
    {
     "data": {
      "text/plain": [
       "sympy.core.mul.Mul"
      ]
     },
     "execution_count": 12,
     "metadata": {},
     "output_type": "execute_result"
    }
   ],
   "source": [
    "type(sympy.sqrt(8))"
   ]
  },
  {
   "cell_type": "code",
   "execution_count": 14,
   "metadata": {},
   "outputs": [],
   "source": [
    "# sqrt(3) is an irrational number\n",
    "# 1.7320508075688772 an only approximation for sqrt(3).\n",
    "# sqrt(3) will be slightly different if we change the data type, for example, double or long double.\n",
    "#\n",
    "# This is how symbolic computation is different from the \"normal/standard\" \n",
    "# numerical computation most of us are familiar with\n",
    "# \n",
    "# Symbolic computation is also known as computer algebra"
   ]
  },
  {
   "cell_type": "code",
   "execution_count": 15,
   "metadata": {},
   "outputs": [],
   "source": [
    "# Advantages\n",
    "# * work with equations in their natural mathematical form\n",
    "# * working with mathematical objects and equations at the fundamental level, without approximations\n",
    "# * compute derivatives/integrals of an expression\n",
    "# * useful in prototyping of new (mathematical) models and gain insights\n",
    "# Disadvantages\n",
    "# * symbolic computations are significantly slow when compared to numerical computations\n",
    "# * limited to simple problems, for example, solutions of PDEs."
   ]
  },
  {
   "cell_type": "code",
   "execution_count": null,
   "metadata": {},
   "outputs": [],
   "source": [
    "# Why SymPy?\n",
    "# Why might you want to learn SymPy?\n",
    "\n",
    "# There are many software for symbolic computations, with Mathematica and Maple being the players.\n",
    "# Matlab/Octave also supports symbolic computations.\n",
    "# Others: SageMath, Cadabra\n",
    "\n",
    "# * Mathematica, Maple and Matlab are not open source\n",
    "# * Mathematica's syntax and formatting is ugly (my personal opinion)\n",
    "# * Matlab and Sage are heavy (requires a lot of disk space)\n",
    "#\n",
    "# * SymPy is open source; easy to modify and extend/customise\n",
    "# * SymPy is lightweight.\n",
    "# * SymPy uses Python; enhance your Python skills (for avid users)\n",
    "# * Useful for interactive online teaching of courses on basic maths using Jupyter notebooks\n"
   ]
  }
 ],
 "metadata": {
  "kernelspec": {
   "display_name": "Python 3",
   "language": "python",
   "name": "python3"
  },
  "language_info": {
   "codemirror_mode": {
    "name": "ipython",
    "version": 3
   },
   "file_extension": ".py",
   "mimetype": "text/x-python",
   "name": "python",
   "nbconvert_exporter": "python",
   "pygments_lexer": "ipython3",
   "version": "3.6.9"
  }
 },
 "nbformat": 4,
 "nbformat_minor": 2
}
