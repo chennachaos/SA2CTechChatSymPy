{
 "cells": [
  {
   "cell_type": "code",
   "execution_count": 7,
   "metadata": {},
   "outputs": [],
   "source": [
    "# N-dim arrays\n",
    "# four classes are available: dense/sparse + mutable/immutable\n",
    "from sympy import *\n",
    "#from sympy import Array\n",
    "init_printing(use_unicode=True)"
   ]
  },
  {
   "cell_type": "code",
   "execution_count": 8,
   "metadata": {},
   "outputs": [],
   "source": [
    "A = Array([[1,2],[3,4]])"
   ]
  },
  {
   "cell_type": "code",
   "execution_count": 9,
   "metadata": {},
   "outputs": [
    {
     "data": {
      "image/png": "[encoded data removed]",
      "text/latex": [
       "$$\\left[\\begin{matrix}1 & 2\\\\3 & 4\\end{matrix}\\right]$$"
      ],
      "text/plain": [
       "[[1, 2], [3, 4]]"
      ]
     },
     "execution_count": 9,
     "metadata": {},
     "output_type": "execute_result"
    }
   ],
   "source": [
    "A"
   ]
  },
  {
   "cell_type": "code",
   "execution_count": 27,
   "metadata": {},
   "outputs": [],
   "source": [
    "B = Array(range(12), (3,4))"
   ]
  },
  {
   "cell_type": "code",
   "execution_count": 28,
   "metadata": {},
   "outputs": [
    {
     "data": {
      "image/png": "[encoded data removed]",
      "text/latex": [
       "$$\\left[\\begin{matrix}0 & 1 & 2 & 3\\\\4 & 5 & 6 & 7\\\\8 & 9 & 10 & 11\\end{matrix}\\right]$$"
      ],
      "text/plain": [
       "[[0, 1, 2, 3], [4, 5, 6, 7], [8, 9, 10, 11]]"
      ]
     },
     "execution_count": 28,
     "metadata": {},
     "output_type": "execute_result"
    }
   ],
   "source": [
    "B"
   ]
  },
  {
   "cell_type": "code",
   "execution_count": 29,
   "metadata": {},
   "outputs": [],
   "source": [
    "C = Array(range(12), (2,2,3))"
   ]
  },
  {
   "cell_type": "code",
   "execution_count": 30,
   "metadata": {},
   "outputs": [
    {
     "data": {
      "image/png": "[encoded data removed]",
      "text/latex": [
       "$$\\left[\\begin{matrix}\\left[\\begin{matrix}0 & 1 & 2\\\\3 & 4 & 5\\end{matrix}\\right] & \\left[\\begin{matrix}6 & 7 & 8\\\\9 & 10 & 11\\end{matrix}\\right]\\end{matrix}\\right]$$"
      ],
      "text/plain": [
       "[[[0, 1, 2], [3, 4, 5]], [[6, 7, 8], [9, 10, 11]]]"
      ]
     },
     "execution_count": 30,
     "metadata": {},
     "output_type": "execute_result"
    }
   ],
   "source": [
    "C"
   ]
  },
  {
   "cell_type": "code",
   "execution_count": 31,
   "metadata": {},
   "outputs": [
    {
     "data": {
      "image/png": "[encoded data removed]",
      "text/latex": [
       "$$2$$"
      ],
      "text/plain": [
       "2"
      ]
     },
     "execution_count": 31,
     "metadata": {},
     "output_type": "execute_result"
    }
   ],
   "source": [
    "# rank of the Array\n",
    "A.rank()"
   ]
  },
  {
   "cell_type": "code",
   "execution_count": 32,
   "metadata": {},
   "outputs": [
    {
     "data": {
      "image/png": "[encoded data removed]",
      "text/latex": [
       "$$2$$"
      ],
      "text/plain": [
       "2"
      ]
     },
     "execution_count": 32,
     "metadata": {},
     "output_type": "execute_result"
    }
   ],
   "source": [
    "B.rank()"
   ]
  },
  {
   "cell_type": "code",
   "execution_count": 33,
   "metadata": {},
   "outputs": [
    {
     "data": {
      "image/png": "[encoded data removed]",
      "text/latex": [
       "$$3$$"
      ],
      "text/plain": [
       "3"
      ]
     },
     "execution_count": 33,
     "metadata": {},
     "output_type": "execute_result"
    }
   ],
   "source": [
    "C.rank()"
   ]
  },
  {
   "cell_type": "code",
   "execution_count": 34,
   "metadata": {},
   "outputs": [
    {
     "data": {
      "image/png": "[encoded data removed]",
      "text/latex": [
       "$$\\left[\\begin{matrix}1 & 2\\\\3 & 4\\end{matrix}\\right]$$"
      ],
      "text/plain": [
       "Matrix([\n",
       "[1, 2],\n",
       "[3, 4]])"
      ]
     },
     "execution_count": 34,
     "metadata": {},
     "output_type": "execute_result"
    }
   ],
   "source": [
    "A.tomatrix()"
   ]
  },
  {
   "cell_type": "code",
   "execution_count": 35,
   "metadata": {},
   "outputs": [
    {
     "data": {
      "image/png": "[encoded data removed]",
      "text/latex": [
       "$$\\left [ \\left [ 1, \\quad 2\\right ], \\quad \\left [ 3, \\quad 4\\right ]\\right ]$$"
      ],
      "text/plain": [
       "[[1, 2], [3, 4]]"
      ]
     },
     "execution_count": 35,
     "metadata": {},
     "output_type": "execute_result"
    }
   ],
   "source": [
    "A.tolist()"
   ]
  },
  {
   "cell_type": "code",
   "execution_count": 36,
   "metadata": {},
   "outputs": [
    {
     "data": {
      "image/png": "[encoded data removed]",
      "text/latex": [
       "$$\\left[\\begin{matrix}0 & 1 & 2 & 3\\\\4 & 5 & 6 & 7\\\\8 & 9 & 10 & 11\\end{matrix}\\right]$$"
      ],
      "text/plain": [
       "Matrix([\n",
       "[0, 1,  2,  3],\n",
       "[4, 5,  6,  7],\n",
       "[8, 9, 10, 11]])"
      ]
     },
     "execution_count": 36,
     "metadata": {},
     "output_type": "execute_result"
    }
   ],
   "source": [
    "B.tomatrix()"
   ]
  },
  {
   "cell_type": "code",
   "execution_count": 39,
   "metadata": {},
   "outputs": [
    {
     "data": {
      "image/png": "[encoded data removed]",
      "text/latex": [
       "$$\\left [ \\left [ \\left [ 0, \\quad 1, \\quad 2\\right ], \\quad \\left [ 3, \\quad 4, \\quad 5\\right ]\\right ], \\quad \\left [ \\left [ 6, \\quad 7, \\quad 8\\right ], \\quad \\left [ 9, \\quad 10, \\quad 11\\right ]\\right ]\\right ]$$"
      ],
      "text/plain": [
       "[[[0, 1, 2], [3, 4, 5]], [[6, 7, 8], [9, 10, 11]]]"
      ]
     },
     "execution_count": 39,
     "metadata": {},
     "output_type": "execute_result"
    }
   ],
   "source": [
    "C.tolist()"
   ]
  },
  {
   "cell_type": "code",
   "execution_count": 40,
   "metadata": {},
   "outputs": [
    {
     "ename": "ValueError",
     "evalue": "Dimensions must be of size of 2",
     "output_type": "error",
     "traceback": [
      "\u001b[0;31m---------------------------------------------------------------------------\u001b[0m",
      "\u001b[0;31mValueError\u001b[0m                                Traceback (most recent call last)",
      "\u001b[0;32m<ipython-input-40-389edd5a661a>\u001b[0m in \u001b[0;36m<module>\u001b[0;34m()\u001b[0m\n\u001b[1;32m      1\u001b[0m \u001b[0;31m# no default functionality for converting higher-order tensors into matrices\u001b[0m\u001b[0;34m\u001b[0m\u001b[0;34m\u001b[0m\u001b[0;34m\u001b[0m\u001b[0m\n\u001b[0;32m----> 2\u001b[0;31m \u001b[0mC\u001b[0m\u001b[0;34m.\u001b[0m\u001b[0mtomatrix\u001b[0m\u001b[0;34m(\u001b[0m\u001b[0;34m)\u001b[0m\u001b[0;34m\u001b[0m\u001b[0;34m\u001b[0m\u001b[0m\n\u001b[0m",
      "\u001b[0;32m/usr/lib/python3/dist-packages/sympy/tensor/array/dense_ndim_array.py\u001b[0m in \u001b[0;36mtomatrix\u001b[0;34m(self)\u001b[0m\n\u001b[1;32m     93\u001b[0m \u001b[0;34m\u001b[0m\u001b[0m\n\u001b[1;32m     94\u001b[0m         \u001b[0;32mif\u001b[0m \u001b[0mself\u001b[0m\u001b[0;34m.\u001b[0m\u001b[0mrank\u001b[0m\u001b[0;34m(\u001b[0m\u001b[0;34m)\u001b[0m \u001b[0;34m!=\u001b[0m \u001b[0;36m2\u001b[0m\u001b[0;34m:\u001b[0m\u001b[0;34m\u001b[0m\u001b[0;34m\u001b[0m\u001b[0m\n\u001b[0;32m---> 95\u001b[0;31m             \u001b[0;32mraise\u001b[0m \u001b[0mValueError\u001b[0m\u001b[0;34m(\u001b[0m\u001b[0;34m'Dimensions must be of size of 2'\u001b[0m\u001b[0;34m)\u001b[0m\u001b[0;34m\u001b[0m\u001b[0;34m\u001b[0m\u001b[0m\n\u001b[0m\u001b[1;32m     96\u001b[0m \u001b[0;34m\u001b[0m\u001b[0m\n\u001b[1;32m     97\u001b[0m         \u001b[0;32mreturn\u001b[0m \u001b[0mMatrix\u001b[0m\u001b[0;34m(\u001b[0m\u001b[0mself\u001b[0m\u001b[0;34m.\u001b[0m\u001b[0mshape\u001b[0m\u001b[0;34m[\u001b[0m\u001b[0;36m0\u001b[0m\u001b[0;34m]\u001b[0m\u001b[0;34m,\u001b[0m \u001b[0mself\u001b[0m\u001b[0;34m.\u001b[0m\u001b[0mshape\u001b[0m\u001b[0;34m[\u001b[0m\u001b[0;36m1\u001b[0m\u001b[0;34m]\u001b[0m\u001b[0;34m,\u001b[0m \u001b[0mself\u001b[0m\u001b[0;34m.\u001b[0m\u001b[0m_array\u001b[0m\u001b[0;34m)\u001b[0m\u001b[0;34m\u001b[0m\u001b[0;34m\u001b[0m\u001b[0m\n",
      "\u001b[0;31mValueError\u001b[0m: Dimensions must be of size of 2"
     ]
    }
   ],
   "source": [
    "# no default functionality for converting higher-order tensors into matrices\n",
    "C.tomatrix()"
   ]
  },
  {
   "cell_type": "code",
   "execution_count": 42,
   "metadata": {},
   "outputs": [],
   "source": [
    "# tensor products: higher-order tensors from lower-order tensors\n",
    "\n",
    "# unit vectors\n",
    "##############\n",
    "\n",
    "i = Array([1,0,0])\n",
    "j = Array([0,1,0])\n",
    "k = Array([0,0,1])"
   ]
  },
  {
   "cell_type": "code",
   "execution_count": 43,
   "metadata": {},
   "outputs": [],
   "source": [
    "ii = tensorproduct(i,i)"
   ]
  },
  {
   "cell_type": "code",
   "execution_count": 44,
   "metadata": {},
   "outputs": [
    {
     "data": {
      "image/png": "[encoded data removed]",
      "text/latex": [
       "$$\\left[\\begin{matrix}1 & 0 & 0\\\\0 & 0 & 0\\\\0 & 0 & 0\\end{matrix}\\right]$$"
      ],
      "text/plain": [
       "[[1, 0, 0], [0, 0, 0], [0, 0, 0]]"
      ]
     },
     "execution_count": 44,
     "metadata": {},
     "output_type": "execute_result"
    }
   ],
   "source": [
    "ii"
   ]
  },
  {
   "cell_type": "code",
   "execution_count": 45,
   "metadata": {},
   "outputs": [],
   "source": [
    "ij = tensorproduct(i,j)"
   ]
  },
  {
   "cell_type": "code",
   "execution_count": 46,
   "metadata": {},
   "outputs": [
    {
     "data": {
      "image/png": "[encoded data removed]",
      "text/latex": [
       "$$\\left[\\begin{matrix}0 & 1 & 0\\\\0 & 0 & 0\\\\0 & 0 & 0\\end{matrix}\\right]$$"
      ],
      "text/plain": [
       "[[0, 1, 0], [0, 0, 0], [0, 0, 0]]"
      ]
     },
     "execution_count": 46,
     "metadata": {},
     "output_type": "execute_result"
    }
   ],
   "source": [
    "ij\n"
   ]
  },
  {
   "cell_type": "code",
   "execution_count": 47,
   "metadata": {},
   "outputs": [],
   "source": [
    "# similarly\n",
    "# ii, ij, ik\n",
    "# ji, jj, jk\n",
    "# ki, kj, kk\n"
   ]
  },
  {
   "cell_type": "code",
   "execution_count": 48,
   "metadata": {},
   "outputs": [
    {
     "data": {
      "image/png": "[encoded data removed]",
      "text/latex": [
       "$$1$$"
      ],
      "text/plain": [
       "1"
      ]
     },
     "execution_count": 48,
     "metadata": {},
     "output_type": "execute_result"
    }
   ],
   "source": [
    "i.rank()"
   ]
  },
  {
   "cell_type": "code",
   "execution_count": 49,
   "metadata": {},
   "outputs": [
    {
     "data": {
      "image/png": "[encoded data removed]",
      "text/latex": [
       "$$2$$"
      ],
      "text/plain": [
       "2"
      ]
     },
     "execution_count": 49,
     "metadata": {},
     "output_type": "execute_result"
    }
   ],
   "source": [
    "ii.rank()"
   ]
  },
  {
   "cell_type": "code",
   "execution_count": 50,
   "metadata": {},
   "outputs": [],
   "source": [
    "I2 = Array([[1,0,0], [0,1,0], [0,0,1]])"
   ]
  },
  {
   "cell_type": "code",
   "execution_count": 51,
   "metadata": {},
   "outputs": [
    {
     "data": {
      "image/png": "[encoded data removed]",
      "text/latex": [
       "$$\\left[\\begin{matrix}1 & 0 & 0\\\\0 & 1 & 0\\\\0 & 0 & 1\\end{matrix}\\right]$$"
      ],
      "text/plain": [
       "[[1, 0, 0], [0, 1, 0], [0, 0, 1]]"
      ]
     },
     "execution_count": 51,
     "metadata": {},
     "output_type": "execute_result"
    }
   ],
   "source": [
    "I2"
   ]
  },
  {
   "cell_type": "code",
   "execution_count": 52,
   "metadata": {},
   "outputs": [],
   "source": [
    "# fourth-order tensor\n",
    "# I4_1_ijkl = delta_ij delta_kl\n",
    "I4_1 = tensorproduct(I2, I2)"
   ]
  },
  {
   "cell_type": "code",
   "execution_count": 53,
   "metadata": {},
   "outputs": [
    {
     "data": {
      "image/png": "[encoded data removed]",
      "text/latex": [
       "$$\\left[\\begin{matrix}\\left[\\begin{matrix}1 & 0 & 0\\\\0 & 1 & 0\\\\0 & 0 & 1\\end{matrix}\\right] & \\left[\\begin{matrix}0 & 0 & 0\\\\0 & 0 & 0\\\\0 & 0 & 0\\end{matrix}\\right] & \\left[\\begin{matrix}0 & 0 & 0\\\\0 & 0 & 0\\\\0 & 0 & 0\\end{matrix}\\right]\\\\\\left[\\begin{matrix}0 & 0 & 0\\\\0 & 0 & 0\\\\0 & 0 & 0\\end{matrix}\\right] & \\left[\\begin{matrix}1 & 0 & 0\\\\0 & 1 & 0\\\\0 & 0 & 1\\end{matrix}\\right] & \\left[\\begin{matrix}0 & 0 & 0\\\\0 & 0 & 0\\\\0 & 0 & 0\\end{matrix}\\right]\\\\\\left[\\begin{matrix}0 & 0 & 0\\\\0 & 0 & 0\\\\0 & 0 & 0\\end{matrix}\\right] & \\left[\\begin{matrix}0 & 0 & 0\\\\0 & 0 & 0\\\\0 & 0 & 0\\end{matrix}\\right] & \\left[\\begin{matrix}1 & 0 & 0\\\\0 & 1 & 0\\\\0 & 0 & 1\\end{matrix}\\right]\\end{matrix}\\right]$$"
      ],
      "text/plain": [
       "[[[[1, 0, 0], [0, 1, 0], [0, 0, 1]], [[0, 0, 0], [0, 0, 0], [0, 0, 0]], [[0, 0, 0], [0, 0, 0], [0, 0, 0]]], [[[0, 0, 0], [0, 0, 0], [0, 0, 0]], [[1, 0, 0], [0, 1, 0], [0, 0, 1]], [[0, 0, 0], [0, 0, 0], [0, 0, 0]]], [[[0, 0, 0], [0, 0, 0], [0, 0, 0]], [[0, 0, 0], [0, 0, 0], [0, 0, 0]], [[1, 0, 0], [0, 1, 0], [0, 0, 1]]]]"
      ]
     },
     "execution_count": 53,
     "metadata": {},
     "output_type": "execute_result"
    }
   ],
   "source": [
    "I4_1"
   ]
  },
  {
   "cell_type": "code",
   "execution_count": 54,
   "metadata": {},
   "outputs": [
    {
     "data": {
      "image/png": "[encoded data removed]",
      "text/latex": [
       "$$\\left[\\begin{matrix}1\\\\0\\\\0\\\\0\\\\1\\\\0\\\\0\\\\0\\\\1\\\\0\\\\0\\\\0\\\\0\\\\0\\\\0\\\\0\\\\0\\\\0\\\\0\\\\0\\\\0\\\\0\\\\0\\\\0\\\\0\\\\0\\\\0\\\\0\\\\0\\\\0\\\\0\\\\0\\\\0\\\\0\\\\0\\\\0\\\\1\\\\0\\\\0\\\\0\\\\1\\\\0\\\\0\\\\0\\\\1\\\\0\\\\0\\\\0\\\\0\\\\0\\\\0\\\\0\\\\0\\\\0\\\\0\\\\0\\\\0\\\\0\\\\0\\\\0\\\\0\\\\0\\\\0\\\\0\\\\0\\\\0\\\\0\\\\0\\\\0\\\\0\\\\0\\\\0\\\\1\\\\0\\\\0\\\\0\\\\1\\\\0\\\\0\\\\0\\\\1\\end{matrix}\\right]$$"
      ],
      "text/plain": [
       "Matrix([\n",
       "[1],\n",
       "[0],\n",
       "[0],\n",
       "[0],\n",
       "[1],\n",
       "[0],\n",
       "[0],\n",
       "[0],\n",
       "[1],\n",
       "[0],\n",
       "[0],\n",
       "[0],\n",
       "[0],\n",
       "[0],\n",
       "[0],\n",
       "[0],\n",
       "[0],\n",
       "[0],\n",
       "[0],\n",
       "[0],\n",
       "[0],\n",
       "[0],\n",
       "[0],\n",
       "[0],\n",
       "[0],\n",
       "[0],\n",
       "[0],\n",
       "[0],\n",
       "[0],\n",
       "[0],\n",
       "[0],\n",
       "[0],\n",
       "[0],\n",
       "[0],\n",
       "[0],\n",
       "[0],\n",
       "[1],\n",
       "[0],\n",
       "[0],\n",
       "[0],\n",
       "[1],\n",
       "[0],\n",
       "[0],\n",
       "[0],\n",
       "[1],\n",
       "[0],\n",
       "[0],\n",
       "[0],\n",
       "[0],\n",
       "[0],\n",
       "[0],\n",
       "[0],\n",
       "[0],\n",
       "[0],\n",
       "[0],\n",
       "[0],\n",
       "[0],\n",
       "[0],\n",
       "[0],\n",
       "[0],\n",
       "[0],\n",
       "[0],\n",
       "[0],\n",
       "[0],\n",
       "[0],\n",
       "[0],\n",
       "[0],\n",
       "[0],\n",
       "[0],\n",
       "[0],\n",
       "[0],\n",
       "[0],\n",
       "[1],\n",
       "[0],\n",
       "[0],\n",
       "[0],\n",
       "[1],\n",
       "[0],\n",
       "[0],\n",
       "[0],\n",
       "[1]])"
      ]
     },
     "execution_count": 54,
     "metadata": {},
     "output_type": "execute_result"
    }
   ],
   "source": [
    "Matrix(I4_1)"
   ]
  },
  {
   "cell_type": "code",
   "execution_count": 56,
   "metadata": {},
   "outputs": [
    {
     "data": {
      "image/png": "[encoded data removed]",
      "text/latex": [
       "$$\\left[\\begin{matrix}1 & 0 & 0 & 0 & 1 & 0 & 0 & 0 & 1\\\\0 & 0 & 0 & 0 & 0 & 0 & 0 & 0 & 0\\\\0 & 0 & 0 & 0 & 0 & 0 & 0 & 0 & 0\\\\0 & 0 & 0 & 0 & 0 & 0 & 0 & 0 & 0\\\\1 & 0 & 0 & 0 & 1 & 0 & 0 & 0 & 1\\\\0 & 0 & 0 & 0 & 0 & 0 & 0 & 0 & 0\\\\0 & 0 & 0 & 0 & 0 & 0 & 0 & 0 & 0\\\\0 & 0 & 0 & 0 & 0 & 0 & 0 & 0 & 0\\\\1 & 0 & 0 & 0 & 1 & 0 & 0 & 0 & 1\\end{matrix}\\right]$$"
      ],
      "text/plain": [
       "Matrix([\n",
       "[1, 0, 0, 0, 1, 0, 0, 0, 1],\n",
       "[0, 0, 0, 0, 0, 0, 0, 0, 0],\n",
       "[0, 0, 0, 0, 0, 0, 0, 0, 0],\n",
       "[0, 0, 0, 0, 0, 0, 0, 0, 0],\n",
       "[1, 0, 0, 0, 1, 0, 0, 0, 1],\n",
       "[0, 0, 0, 0, 0, 0, 0, 0, 0],\n",
       "[0, 0, 0, 0, 0, 0, 0, 0, 0],\n",
       "[0, 0, 0, 0, 0, 0, 0, 0, 0],\n",
       "[1, 0, 0, 0, 1, 0, 0, 0, 1]])"
      ]
     },
     "execution_count": 56,
     "metadata": {},
     "output_type": "execute_result"
    }
   ],
   "source": [
    "Matrix(I4_1).reshape(9,9)"
   ]
  },
  {
   "cell_type": "code",
   "execution_count": 60,
   "metadata": {},
   "outputs": [],
   "source": [
    "# I4_2_ijkl = delta_ik delta_jl\n",
    "I4_2 = eye(9)"
   ]
  },
  {
   "cell_type": "code",
   "execution_count": 61,
   "metadata": {},
   "outputs": [
    {
     "data": {
      "image/png": "[encoded data removed]",
      "text/latex": [
       "$$\\left[\\begin{matrix}1 & 0 & 0 & 0 & 0 & 0 & 0 & 0 & 0\\\\0 & 1 & 0 & 0 & 0 & 0 & 0 & 0 & 0\\\\0 & 0 & 1 & 0 & 0 & 0 & 0 & 0 & 0\\\\0 & 0 & 0 & 1 & 0 & 0 & 0 & 0 & 0\\\\0 & 0 & 0 & 0 & 1 & 0 & 0 & 0 & 0\\\\0 & 0 & 0 & 0 & 0 & 1 & 0 & 0 & 0\\\\0 & 0 & 0 & 0 & 0 & 0 & 1 & 0 & 0\\\\0 & 0 & 0 & 0 & 0 & 0 & 0 & 1 & 0\\\\0 & 0 & 0 & 0 & 0 & 0 & 0 & 0 & 1\\end{matrix}\\right]$$"
      ],
      "text/plain": [
       "Matrix([\n",
       "[1, 0, 0, 0, 0, 0, 0, 0, 0],\n",
       "[0, 1, 0, 0, 0, 0, 0, 0, 0],\n",
       "[0, 0, 1, 0, 0, 0, 0, 0, 0],\n",
       "[0, 0, 0, 1, 0, 0, 0, 0, 0],\n",
       "[0, 0, 0, 0, 1, 0, 0, 0, 0],\n",
       "[0, 0, 0, 0, 0, 1, 0, 0, 0],\n",
       "[0, 0, 0, 0, 0, 0, 1, 0, 0],\n",
       "[0, 0, 0, 0, 0, 0, 0, 1, 0],\n",
       "[0, 0, 0, 0, 0, 0, 0, 0, 1]])"
      ]
     },
     "execution_count": 61,
     "metadata": {},
     "output_type": "execute_result"
    }
   ],
   "source": [
    "I4_2"
   ]
  },
  {
   "cell_type": "code",
   "execution_count": 63,
   "metadata": {},
   "outputs": [],
   "source": [
    "# tensor contraction\n",
    "A = Array([[1,2,3],[4,5,6],[7,8,9]])"
   ]
  },
  {
   "cell_type": "code",
   "execution_count": 64,
   "metadata": {},
   "outputs": [
    {
     "data": {
      "image/png": "[encoded data removed]",
      "text/latex": [
       "$$\\left[\\begin{matrix}1 & 2 & 3\\\\4 & 5 & 6\\\\7 & 8 & 9\\end{matrix}\\right]$$"
      ],
      "text/plain": [
       "[[1, 2, 3], [4, 5, 6], [7, 8, 9]]"
      ]
     },
     "execution_count": 64,
     "metadata": {},
     "output_type": "execute_result"
    }
   ],
   "source": [
    "A"
   ]
  },
  {
   "cell_type": "code",
   "execution_count": 73,
   "metadata": {},
   "outputs": [],
   "source": [
    "# the matrix trace is equivalent to contaction of second-order tensor along axes 1 and 2\n",
    "# since the starting index in Python is zero.\n",
    "trA = tensorcontraction(A, (0,1))"
   ]
  },
  {
   "cell_type": "code",
   "execution_count": 74,
   "metadata": {},
   "outputs": [
    {
     "data": {
      "image/png": "[encoded data removed]",
      "text/latex": [
       "$$15$$"
      ],
      "text/plain": [
       "15"
      ]
     },
     "execution_count": 74,
     "metadata": {},
     "output_type": "execute_result"
    }
   ],
   "source": [
    "trA"
   ]
  },
  {
   "cell_type": "code",
   "execution_count": 77,
   "metadata": {},
   "outputs": [],
   "source": [
    "# matrix product is the contaction of fourth order tensor along axes 2 and 3\n",
    "# of the fourth-order tensor formed as the tensor product of the matrices as rank-2 tensor\n",
    "D = Array([[1,2],[3,4]])"
   ]
  },
  {
   "cell_type": "code",
   "execution_count": 79,
   "metadata": {},
   "outputs": [],
   "source": [
    "DtD = tensorproduct(D,D)"
   ]
  },
  {
   "cell_type": "code",
   "execution_count": 80,
   "metadata": {},
   "outputs": [
    {
     "data": {
      "image/png": "[encoded data removed]",
      "text/latex": [
       "$$\\left[\\begin{matrix}\\left[\\begin{matrix}1 & 2\\\\3 & 4\\end{matrix}\\right] & \\left[\\begin{matrix}2 & 4\\\\6 & 8\\end{matrix}\\right]\\\\\\left[\\begin{matrix}3 & 6\\\\9 & 12\\end{matrix}\\right] & \\left[\\begin{matrix}4 & 8\\\\12 & 16\\end{matrix}\\right]\\end{matrix}\\right]$$"
      ],
      "text/plain": [
       "[[[[1, 2], [3, 4]], [[2, 4], [6, 8]]], [[[3, 6], [9, 12]], [[4, 8], [12, 16]]]]"
      ]
     },
     "execution_count": 80,
     "metadata": {},
     "output_type": "execute_result"
    }
   ],
   "source": [
    "DtD"
   ]
  },
  {
   "cell_type": "code",
   "execution_count": 81,
   "metadata": {},
   "outputs": [
    {
     "data": {
      "image/png": "[encoded data removed]",
      "text/latex": [
       "$$4$$"
      ],
      "text/plain": [
       "4"
      ]
     },
     "execution_count": 81,
     "metadata": {},
     "output_type": "execute_result"
    }
   ],
   "source": [
    "DtD.rank()"
   ]
  },
  {
   "cell_type": "code",
   "execution_count": 85,
   "metadata": {},
   "outputs": [
    {
     "data": {
      "image/png": "[encoded data removed]",
      "text/latex": [
       "$$\\left[\\begin{matrix}7 & 10\\\\15 & 22\\end{matrix}\\right]$$"
      ],
      "text/plain": [
       "[[7, 10], [15, 22]]"
      ]
     },
     "execution_count": 85,
     "metadata": {},
     "output_type": "execute_result"
    }
   ],
   "source": [
    "tensorcontraction(DtD,(1,2))"
   ]
  },
  {
   "cell_type": "code",
   "execution_count": 84,
   "metadata": {},
   "outputs": [
    {
     "data": {
      "image/png": "[encoded data removed]",
      "text/latex": [
       "$$\\left[\\begin{matrix}7 & 10\\\\15 & 22\\end{matrix}\\right]$$"
      ],
      "text/plain": [
       "Matrix([\n",
       "[ 7, 10],\n",
       "[15, 22]])"
      ]
     },
     "execution_count": 84,
     "metadata": {},
     "output_type": "execute_result"
    }
   ],
   "source": [
    "D.tomatrix()*D.tomatrix()"
   ]
  },
  {
   "cell_type": "code",
   "execution_count": 86,
   "metadata": {},
   "outputs": [],
   "source": [
    "#"
   ]
  },
  {
   "cell_type": "code",
   "execution_count": 87,
   "metadata": {},
   "outputs": [],
   "source": [
    "#"
   ]
  },
  {
   "cell_type": "code",
   "execution_count": 101,
   "metadata": {},
   "outputs": [],
   "source": [
    "# indexed objects\n",
    "# A[i,j]\n",
    "# A is the IndexedBase\n",
    "# i and j are indices\n",
    "\n",
    "A = IndexedBase('A')\n",
    "i,j = symbols('i j', cls=Idx)"
   ]
  },
  {
   "cell_type": "code",
   "execution_count": 102,
   "metadata": {},
   "outputs": [
    {
     "data": {
      "image/png": "[encoded data removed]",
      "text/latex": [
       "$$A_{i,j}$$"
      ],
      "text/plain": [
       "A[i, j]"
      ]
     },
     "execution_count": 102,
     "metadata": {},
     "output_type": "execute_result"
    }
   ],
   "source": [
    "A[i,j]"
   ]
  },
  {
   "cell_type": "code",
   "execution_count": 103,
   "metadata": {},
   "outputs": [
    {
     "ename": "IndexException",
     "evalue": "\nShape cannot be inferred from Idx with undefined range: A[i, j]",
     "output_type": "error",
     "traceback": [
      "\u001b[0;31m---------------------------------------------------------------------------\u001b[0m",
      "\u001b[0;31mTypeError\u001b[0m                                 Traceback (most recent call last)",
      "\u001b[0;32m/usr/lib/python3/dist-packages/sympy/tensor/indexed.py\u001b[0m in \u001b[0;36mshape\u001b[0;34m(self)\u001b[0m\n\u001b[1;32m    267\u001b[0m         \u001b[0;32mtry\u001b[0m\u001b[0;34m:\u001b[0m\u001b[0;34m\u001b[0m\u001b[0;34m\u001b[0m\u001b[0m\n\u001b[0;32m--> 268\u001b[0;31m             \u001b[0;32mreturn\u001b[0m \u001b[0mTuple\u001b[0m\u001b[0;34m(\u001b[0m\u001b[0;34m*\u001b[0m\u001b[0;34m[\u001b[0m\u001b[0mi\u001b[0m\u001b[0;34m.\u001b[0m\u001b[0mupper\u001b[0m \u001b[0;34m-\u001b[0m \u001b[0mi\u001b[0m\u001b[0;34m.\u001b[0m\u001b[0mlower\u001b[0m \u001b[0;34m+\u001b[0m \u001b[0;36m1\u001b[0m \u001b[0;32mfor\u001b[0m \u001b[0mi\u001b[0m \u001b[0;32min\u001b[0m \u001b[0mself\u001b[0m\u001b[0;34m.\u001b[0m\u001b[0mindices\u001b[0m\u001b[0;34m]\u001b[0m\u001b[0;34m)\u001b[0m\u001b[0;34m\u001b[0m\u001b[0;34m\u001b[0m\u001b[0m\n\u001b[0m\u001b[1;32m    269\u001b[0m         \u001b[0;32mexcept\u001b[0m \u001b[0mAttributeError\u001b[0m\u001b[0;34m:\u001b[0m\u001b[0;34m\u001b[0m\u001b[0;34m\u001b[0m\u001b[0m\n",
      "\u001b[0;32m/usr/lib/python3/dist-packages/sympy/tensor/indexed.py\u001b[0m in \u001b[0;36m<listcomp>\u001b[0;34m(.0)\u001b[0m\n\u001b[1;32m    267\u001b[0m         \u001b[0;32mtry\u001b[0m\u001b[0;34m:\u001b[0m\u001b[0;34m\u001b[0m\u001b[0;34m\u001b[0m\u001b[0m\n\u001b[0;32m--> 268\u001b[0;31m             \u001b[0;32mreturn\u001b[0m \u001b[0mTuple\u001b[0m\u001b[0;34m(\u001b[0m\u001b[0;34m*\u001b[0m\u001b[0;34m[\u001b[0m\u001b[0mi\u001b[0m\u001b[0;34m.\u001b[0m\u001b[0mupper\u001b[0m \u001b[0;34m-\u001b[0m \u001b[0mi\u001b[0m\u001b[0;34m.\u001b[0m\u001b[0mlower\u001b[0m \u001b[0;34m+\u001b[0m \u001b[0;36m1\u001b[0m \u001b[0;32mfor\u001b[0m \u001b[0mi\u001b[0m \u001b[0;32min\u001b[0m \u001b[0mself\u001b[0m\u001b[0;34m.\u001b[0m\u001b[0mindices\u001b[0m\u001b[0;34m]\u001b[0m\u001b[0;34m)\u001b[0m\u001b[0;34m\u001b[0m\u001b[0;34m\u001b[0m\u001b[0m\n\u001b[0m\u001b[1;32m    269\u001b[0m         \u001b[0;32mexcept\u001b[0m \u001b[0mAttributeError\u001b[0m\u001b[0;34m:\u001b[0m\u001b[0;34m\u001b[0m\u001b[0;34m\u001b[0m\u001b[0m\n",
      "\u001b[0;31mTypeError\u001b[0m: unsupported operand type(s) for -: 'NoneType' and 'NoneType'",
      "\nDuring handling of the above exception, another exception occurred:\n",
      "\u001b[0;31mIndexException\u001b[0m                            Traceback (most recent call last)",
      "\u001b[0;32m<ipython-input-103-99267b724777>\u001b[0m in \u001b[0;36m<module>\u001b[0;34m()\u001b[0m\n\u001b[0;32m----> 1\u001b[0;31m \u001b[0mA\u001b[0m\u001b[0;34m[\u001b[0m\u001b[0mi\u001b[0m\u001b[0;34m,\u001b[0m\u001b[0mj\u001b[0m\u001b[0;34m]\u001b[0m\u001b[0;34m.\u001b[0m\u001b[0mshape\u001b[0m\u001b[0;34m\u001b[0m\u001b[0;34m\u001b[0m\u001b[0m\n\u001b[0m",
      "\u001b[0;32m/usr/lib/python3/dist-packages/sympy/tensor/indexed.py\u001b[0m in \u001b[0;36mshape\u001b[0;34m(self)\u001b[0m\n\u001b[1;32m    273\u001b[0m             raise IndexException(filldedent(\"\"\"\n\u001b[1;32m    274\u001b[0m                 \u001b[0mShape\u001b[0m \u001b[0mcannot\u001b[0m \u001b[0mbe\u001b[0m \u001b[0minferred\u001b[0m \u001b[0;32mfrom\u001b[0m \u001b[0mIdx\u001b[0m \u001b[0;32mwith\u001b[0m\u001b[0;34m\u001b[0m\u001b[0;34m\u001b[0m\u001b[0m\n\u001b[0;32m--> 275\u001b[0;31m                 undefined range: %s\"\"\" % self))\n\u001b[0m\u001b[1;32m    276\u001b[0m \u001b[0;34m\u001b[0m\u001b[0m\n\u001b[1;32m    277\u001b[0m     \u001b[0;34m@\u001b[0m\u001b[0mproperty\u001b[0m\u001b[0;34m\u001b[0m\u001b[0;34m\u001b[0m\u001b[0m\n",
      "\u001b[0;31mIndexException\u001b[0m: \nShape cannot be inferred from Idx with undefined range: A[i, j]"
     ]
    }
   ],
   "source": [
    "A[i,j].shape"
   ]
  },
  {
   "cell_type": "code",
   "execution_count": 104,
   "metadata": {},
   "outputs": [],
   "source": [
    "i = Idx('i', 3)\n",
    "j = Idx('j', 3)"
   ]
  },
  {
   "cell_type": "code",
   "execution_count": 105,
   "metadata": {},
   "outputs": [
    {
     "data": {
      "image/png": "[encoded data removed]",
      "text/latex": [
       "$$\\left ( 3, \\quad 3\\right )$$"
      ],
      "text/plain": [
       "(3, 3)"
      ]
     },
     "execution_count": 105,
     "metadata": {},
     "output_type": "execute_result"
    }
   ],
   "source": [
    "A[i,j].shape"
   ]
  },
  {
   "cell_type": "code",
   "execution_count": 106,
   "metadata": {},
   "outputs": [
    {
     "data": {
      "image/png": "[encoded data removed]",
      "text/latex": [
       "$$\\left [ \\left ( 0, \\quad 2\\right ), \\quad \\left ( 0, \\quad 2\\right )\\right ]$$"
      ],
      "text/plain": [
       "[(0, 2), (0, 2)]"
      ]
     },
     "execution_count": 106,
     "metadata": {},
     "output_type": "execute_result"
    }
   ],
   "source": [
    "A[i,j].ranges"
   ]
  },
  {
   "cell_type": "code",
   "execution_count": 107,
   "metadata": {},
   "outputs": [
    {
     "data": {
      "image/png": "[encoded data removed]",
      "text/latex": [
       "$$0$$"
      ],
      "text/plain": [
       "0"
      ]
     },
     "execution_count": 107,
     "metadata": {},
     "output_type": "execute_result"
    }
   ],
   "source": [
    "i.lower"
   ]
  },
  {
   "cell_type": "code",
   "execution_count": 108,
   "metadata": {},
   "outputs": [
    {
     "data": {
      "image/png": "[encoded data removed]",
      "text/latex": [
       "$$2$$"
      ],
      "text/plain": [
       "2"
      ]
     },
     "execution_count": 108,
     "metadata": {},
     "output_type": "execute_result"
    }
   ],
   "source": [
    "i.upper"
   ]
  },
  {
   "cell_type": "code",
   "execution_count": 109,
   "metadata": {},
   "outputs": [],
   "source": [
    "# index with unbounded upper limit\n",
    "k = Idx('k', oo)"
   ]
  },
  {
   "cell_type": "code",
   "execution_count": 110,
   "metadata": {},
   "outputs": [
    {
     "data": {
      "image/png": "[encoded data removed]",
      "text/latex": [
       "$$0$$"
      ],
      "text/plain": [
       "0"
      ]
     },
     "execution_count": 110,
     "metadata": {},
     "output_type": "execute_result"
    }
   ],
   "source": [
    "k.lower"
   ]
  },
  {
   "cell_type": "code",
   "execution_count": 111,
   "metadata": {},
   "outputs": [
    {
     "data": {
      "image/png": "[encoded data removed]",
      "text/latex": [
       "$$\\infty$$"
      ],
      "text/plain": [
       "oo"
      ]
     },
     "execution_count": 111,
     "metadata": {},
     "output_type": "execute_result"
    }
   ],
   "source": [
    "k.upper"
   ]
  },
  {
   "cell_type": "code",
   "execution_count": 112,
   "metadata": {},
   "outputs": [],
   "source": [
    "#"
   ]
  },
  {
   "cell_type": "code",
   "execution_count": 113,
   "metadata": {},
   "outputs": [],
   "source": [
    "#"
   ]
  },
  {
   "cell_type": "code",
   "execution_count": 114,
   "metadata": {},
   "outputs": [],
   "source": [
    "# Matrix expressions\n",
    "from sympy import MatrixSymbol, Matrix"
   ]
  },
  {
   "cell_type": "code",
   "execution_count": 115,
   "metadata": {},
   "outputs": [],
   "source": [
    "F = MatrixSymbol('F',3,3)"
   ]
  },
  {
   "cell_type": "code",
   "execution_count": 116,
   "metadata": {},
   "outputs": [
    {
     "data": {
      "image/png": "[encoded data removed]",
      "text/latex": [
       "$$\\left ( 3, \\quad 3\\right )$$"
      ],
      "text/plain": [
       "(3, 3)"
      ]
     },
     "execution_count": 116,
     "metadata": {},
     "output_type": "execute_result"
    }
   ],
   "source": [
    "F.shape"
   ]
  },
  {
   "cell_type": "code",
   "execution_count": 117,
   "metadata": {},
   "outputs": [
    {
     "data": {
      "image/png": "[encoded data removed]",
      "text/latex": [
       "$$F$$"
      ],
      "text/plain": [
       "F"
      ]
     },
     "execution_count": 117,
     "metadata": {},
     "output_type": "execute_result"
    }
   ],
   "source": [
    "F"
   ]
  },
  {
   "cell_type": "code",
   "execution_count": 118,
   "metadata": {},
   "outputs": [
    {
     "data": {
      "image/png": "[encoded data removed]",
      "text/latex": [
       "$$\\left[\\begin{array}{ccc}F_{0, 0} & F_{0, 1} & F_{0, 2}\\\\F_{1, 0} & F_{1, 1} & F_{1, 2}\\\\F_{2, 0} & F_{2, 1} & F_{2, 2}\\end{array}\\right]$$"
      ],
      "text/plain": [
       "Matrix([\n",
       "[F[0, 0], F[0, 1], F[0, 2]],\n",
       "[F[1, 0], F[1, 1], F[1, 2]],\n",
       "[F[2, 0], F[2, 1], F[2, 2]]])"
      ]
     },
     "execution_count": 118,
     "metadata": {},
     "output_type": "execute_result"
    }
   ],
   "source": [
    "Matrix(F)"
   ]
  },
  {
   "cell_type": "code",
   "execution_count": 124,
   "metadata": {},
   "outputs": [],
   "source": [
    "A = MatrixSymbol('A',3,3)\n",
    "B = MatrixSymbol('B',3,3)\n",
    "C = MatrixSymbol('C',3,3)"
   ]
  },
  {
   "cell_type": "code",
   "execution_count": 125,
   "metadata": {},
   "outputs": [
    {
     "data": {
      "image/png": "[encoded data removed]",
      "text/latex": [
       "$$\\left[\\begin{array}{ccc}C_{0, 0} & C_{0, 1} & C_{0, 2}\\\\C_{1, 0} & C_{1, 1} & C_{1, 2}\\\\C_{2, 0} & C_{2, 1} & C_{2, 2}\\end{array}\\right]$$"
      ],
      "text/plain": [
       "Matrix([\n",
       "[C[0, 0], C[0, 1], C[0, 2]],\n",
       "[C[1, 0], C[1, 1], C[1, 2]],\n",
       "[C[2, 0], C[2, 1], C[2, 2]]])"
      ]
     },
     "execution_count": 125,
     "metadata": {},
     "output_type": "execute_result"
    }
   ],
   "source": [
    "Matrix(C)"
   ]
  },
  {
   "cell_type": "code",
   "execution_count": 127,
   "metadata": {},
   "outputs": [
    {
     "data": {
      "image/png": "[encoded data removed]",
      "text/latex": [
       "$$\\left[\\begin{array}{ccc}A_{0, 0} + B_{0, 0} + C_{0, 0} & A_{0, 1} + B_{0, 1} + C_{0, 1} & A_{0, 2} + B_{0, 2} + C_{0, 2}\\\\A_{1, 0} + B_{1, 0} + C_{1, 0} & A_{1, 1} + B_{1, 1} + C_{1, 1} & A_{1, 2} + B_{1, 2} + C_{1, 2}\\\\A_{2, 0} + B_{2, 0} + C_{2, 0} & A_{2, 1} + B_{2, 1} + C_{2, 1} & A_{2, 2} + B_{2, 2} + C_{2, 2}\\end{array}\\right]$$"
      ],
      "text/plain": [
       "Matrix([\n",
       "[A[0, 0] + B[0, 0] + C[0, 0], A[0, 1] + B[0, 1] + C[0, 1], A[0, 2] + B[0, 2] + C[0, 2]],\n",
       "[A[1, 0] + B[1, 0] + C[1, 0], A[1, 1] + B[1, 1] + C[1, 1], A[1, 2] + B[1, 2] + C[1, 2]],\n",
       "[A[2, 0] + B[2, 0] + C[2, 0], A[2, 1] + B[2, 1] + C[2, 1], A[2, 2] + B[2, 2] + C[2, 2]]])"
      ]
     },
     "execution_count": 127,
     "metadata": {},
     "output_type": "execute_result"
    }
   ],
   "source": [
    "# MatrixAddition\n",
    "Matrix(MatAdd(A,B,C))"
   ]
  },
  {
   "cell_type": "code",
   "execution_count": 128,
   "metadata": {},
   "outputs": [
    {
     "data": {
      "image/png": "[encoded data removed]",
      "text/latex": [
       "$$A B C$$"
      ],
      "text/plain": [
       "A*B*C"
      ]
     },
     "execution_count": 128,
     "metadata": {},
     "output_type": "execute_result"
    }
   ],
   "source": [
    "MatMul(A,B,C)"
   ]
  },
  {
   "cell_type": "code",
   "execution_count": 129,
   "metadata": {},
   "outputs": [
    {
     "data": {
      "image/png": "[encoded data removed]",
      "text/latex": [
       "$$\\left[\\begin{array}{ccc}\\left(B_{0, 0} C_{0, 0} + B_{0, 1} C_{1, 0} + B_{0, 2} C_{2, 0}\\right) A_{0, 0} + \\left(B_{1, 0} C_{0, 0} + B_{1, 1} C_{1, 0} + B_{1, 2} C_{2, 0}\\right) A_{0, 1} + \\left(B_{2, 0} C_{0, 0} + B_{2, 1} C_{1, 0} + B_{2, 2} C_{2, 0}\\right) A_{0, 2} & \\left(B_{0, 0} C_{0, 1} + B_{0, 1} C_{1, 1} + B_{0, 2} C_{2, 1}\\right) A_{0, 0} + \\left(B_{1, 0} C_{0, 1} + B_{1, 1} C_{1, 1} + B_{1, 2} C_{2, 1}\\right) A_{0, 1} + \\left(B_{2, 0} C_{0, 1} + B_{2, 1} C_{1, 1} + B_{2, 2} C_{2, 1}\\right) A_{0, 2} & \\left(B_{0, 0} C_{0, 2} + B_{0, 1} C_{1, 2} + B_{0, 2} C_{2, 2}\\right) A_{0, 0} + \\left(B_{1, 0} C_{0, 2} + B_{1, 1} C_{1, 2} + B_{1, 2} C_{2, 2}\\right) A_{0, 1} + \\left(B_{2, 0} C_{0, 2} + B_{2, 1} C_{1, 2} + B_{2, 2} C_{2, 2}\\right) A_{0, 2}\\\\\\left(B_{0, 0} C_{0, 0} + B_{0, 1} C_{1, 0} + B_{0, 2} C_{2, 0}\\right) A_{1, 0} + \\left(B_{1, 0} C_{0, 0} + B_{1, 1} C_{1, 0} + B_{1, 2} C_{2, 0}\\right) A_{1, 1} + \\left(B_{2, 0} C_{0, 0} + B_{2, 1} C_{1, 0} + B_{2, 2} C_{2, 0}\\right) A_{1, 2} & \\left(B_{0, 0} C_{0, 1} + B_{0, 1} C_{1, 1} + B_{0, 2} C_{2, 1}\\right) A_{1, 0} + \\left(B_{1, 0} C_{0, 1} + B_{1, 1} C_{1, 1} + B_{1, 2} C_{2, 1}\\right) A_{1, 1} + \\left(B_{2, 0} C_{0, 1} + B_{2, 1} C_{1, 1} + B_{2, 2} C_{2, 1}\\right) A_{1, 2} & \\left(B_{0, 0} C_{0, 2} + B_{0, 1} C_{1, 2} + B_{0, 2} C_{2, 2}\\right) A_{1, 0} + \\left(B_{1, 0} C_{0, 2} + B_{1, 1} C_{1, 2} + B_{1, 2} C_{2, 2}\\right) A_{1, 1} + \\left(B_{2, 0} C_{0, 2} + B_{2, 1} C_{1, 2} + B_{2, 2} C_{2, 2}\\right) A_{1, 2}\\\\\\left(B_{0, 0} C_{0, 0} + B_{0, 1} C_{1, 0} + B_{0, 2} C_{2, 0}\\right) A_{2, 0} + \\left(B_{1, 0} C_{0, 0} + B_{1, 1} C_{1, 0} + B_{1, 2} C_{2, 0}\\right) A_{2, 1} + \\left(B_{2, 0} C_{0, 0} + B_{2, 1} C_{1, 0} + B_{2, 2} C_{2, 0}\\right) A_{2, 2} & \\left(B_{0, 0} C_{0, 1} + B_{0, 1} C_{1, 1} + B_{0, 2} C_{2, 1}\\right) A_{2, 0} + \\left(B_{1, 0} C_{0, 1} + B_{1, 1} C_{1, 1} + B_{1, 2} C_{2, 1}\\right) A_{2, 1} + \\left(B_{2, 0} C_{0, 1} + B_{2, 1} C_{1, 1} + B_{2, 2} C_{2, 1}\\right) A_{2, 2} & \\left(B_{0, 0} C_{0, 2} + B_{0, 1} C_{1, 2} + B_{0, 2} C_{2, 2}\\right) A_{2, 0} + \\left(B_{1, 0} C_{0, 2} + B_{1, 1} C_{1, 2} + B_{1, 2} C_{2, 2}\\right) A_{2, 1} + \\left(B_{2, 0} C_{0, 2} + B_{2, 1} C_{1, 2} + B_{2, 2} C_{2, 2}\\right) A_{2, 2}\\end{array}\\right]$$"
      ],
      "text/plain": [
       "Matrix([\n",
       "[(B[0, 0]*C[0, 0] + B[0, 1]*C[1, 0] + B[0, 2]*C[2, 0])*A[0, 0] + (B[1, 0]*C[0, 0] + B[1, 1]*C[1, 0] + B[1, 2]*C[2, 0])*A[0, 1] + (B[2, 0]*C[0, 0] + B[2, 1]*C[1, 0] + B[2, 2]*C[2, 0])*A[0, 2], (B[0, 0]*C[0, 1] + B[0, 1]*C[1, 1] + B[0, 2]*C[2, 1])*A[0, 0] + (B[1, 0]*C[0, 1] + B[1, 1]*C[1, 1] + B[1, 2]*C[2, 1])*A[0, 1] + (B[2, 0]*C[0, 1] + B[2, 1]*C[1, 1] + B[2, 2]*C[2, 1])*A[0, 2], (B[0, 0]*C[0, 2] + B[0, 1]*C[1, 2] + B[0, 2]*C[2, 2])*A[0, 0] + (B[1, 0]*C[0, 2] + B[1, 1]*C[1, 2] + B[1, 2]*C[2, 2])*A[0, 1] + (B[2, 0]*C[0, 2] + B[2, 1]*C[1, 2] + B[2, 2]*C[2, 2])*A[0, 2]],\n",
       "[(B[0, 0]*C[0, 0] + B[0, 1]*C[1, 0] + B[0, 2]*C[2, 0])*A[1, 0] + (B[1, 0]*C[0, 0] + B[1, 1]*C[1, 0] + B[1, 2]*C[2, 0])*A[1, 1] + (B[2, 0]*C[0, 0] + B[2, 1]*C[1, 0] + B[2, 2]*C[2, 0])*A[1, 2], (B[0, 0]*C[0, 1] + B[0, 1]*C[1, 1] + B[0, 2]*C[2, 1])*A[1, 0] + (B[1, 0]*C[0, 1] + B[1, 1]*C[1, 1] + B[1, 2]*C[2, 1])*A[1, 1] + (B[2, 0]*C[0, 1] + B[2, 1]*C[1, 1] + B[2, 2]*C[2, 1])*A[1, 2], (B[0, 0]*C[0, 2] + B[0, 1]*C[1, 2] + B[0, 2]*C[2, 2])*A[1, 0] + (B[1, 0]*C[0, 2] + B[1, 1]*C[1, 2] + B[1, 2]*C[2, 2])*A[1, 1] + (B[2, 0]*C[0, 2] + B[2, 1]*C[1, 2] + B[2, 2]*C[2, 2])*A[1, 2]],\n",
       "[(B[0, 0]*C[0, 0] + B[0, 1]*C[1, 0] + B[0, 2]*C[2, 0])*A[2, 0] + (B[1, 0]*C[0, 0] + B[1, 1]*C[1, 0] + B[1, 2]*C[2, 0])*A[2, 1] + (B[2, 0]*C[0, 0] + B[2, 1]*C[1, 0] + B[2, 2]*C[2, 0])*A[2, 2], (B[0, 0]*C[0, 1] + B[0, 1]*C[1, 1] + B[0, 2]*C[2, 1])*A[2, 0] + (B[1, 0]*C[0, 1] + B[1, 1]*C[1, 1] + B[1, 2]*C[2, 1])*A[2, 1] + (B[2, 0]*C[0, 1] + B[2, 1]*C[1, 1] + B[2, 2]*C[2, 1])*A[2, 2], (B[0, 0]*C[0, 2] + B[0, 1]*C[1, 2] + B[0, 2]*C[2, 2])*A[2, 0] + (B[1, 0]*C[0, 2] + B[1, 1]*C[1, 2] + B[1, 2]*C[2, 2])*A[2, 1] + (B[2, 0]*C[0, 2] + B[2, 1]*C[1, 2] + B[2, 2]*C[2, 2])*A[2, 2]]])"
      ]
     },
     "execution_count": 129,
     "metadata": {},
     "output_type": "execute_result"
    }
   ],
   "source": [
    "Matrix(MatMul(A,B,C))"
   ]
  },
  {
   "cell_type": "code",
   "execution_count": 130,
   "metadata": {},
   "outputs": [
    {
     "data": {
      "image/png": "[encoded data removed]",
      "text/latex": [
       "$$\\left[\\begin{array}{ccc}A_{0, 0} B_{0, 0} & A_{0, 1} B_{0, 1} & A_{0, 2} B_{0, 2}\\\\A_{1, 0} B_{1, 0} & A_{1, 1} B_{1, 1} & A_{1, 2} B_{1, 2}\\\\A_{2, 0} B_{2, 0} & A_{2, 1} B_{2, 1} & A_{2, 2} B_{2, 2}\\end{array}\\right]$$"
      ],
      "text/plain": [
       "Matrix([\n",
       "[A[0, 0]*B[0, 0], A[0, 1]*B[0, 1], A[0, 2]*B[0, 2]],\n",
       "[A[1, 0]*B[1, 0], A[1, 1]*B[1, 1], A[1, 2]*B[1, 2]],\n",
       "[A[2, 0]*B[2, 0], A[2, 1]*B[2, 1], A[2, 2]*B[2, 2]]])"
      ]
     },
     "execution_count": 130,
     "metadata": {},
     "output_type": "execute_result"
    }
   ],
   "source": [
    "Matrix(hadamard_product(A,B))"
   ]
  },
  {
   "cell_type": "code",
   "execution_count": 131,
   "metadata": {},
   "outputs": [],
   "source": [
    "# matrix inverse\n",
    "Ainv = Inverse(A)"
   ]
  },
  {
   "cell_type": "code",
   "execution_count": 132,
   "metadata": {},
   "outputs": [
    {
     "data": {
      "image/png": "[encoded data removed]",
      "text/latex": [
       "$$A^{-1}$$"
      ],
      "text/plain": [
       "A^-1"
      ]
     },
     "execution_count": 132,
     "metadata": {},
     "output_type": "execute_result"
    }
   ],
   "source": [
    "Ainv"
   ]
  },
  {
   "cell_type": "code",
   "execution_count": 134,
   "metadata": {},
   "outputs": [],
   "source": [
    "IA = Trace(A)"
   ]
  },
  {
   "cell_type": "code",
   "execution_count": 135,
   "metadata": {},
   "outputs": [
    {
     "data": {
      "image/png": "[encoded data removed]",
      "text/latex": [
       "$$Trace(A)$$"
      ],
      "text/plain": [
       "Trace(A)"
      ]
     },
     "execution_count": 135,
     "metadata": {},
     "output_type": "execute_result"
    }
   ],
   "source": [
    "IA"
   ]
  },
  {
   "cell_type": "code",
   "execution_count": 136,
   "metadata": {},
   "outputs": [],
   "source": [
    "# tensor calculs\n",
    "\n",
    "i = Idx('i', 3)\n",
    "j = Idx('j', 3)\n",
    "k = Idx('k', 3)\n",
    "l = Idx('l', 3)\n"
   ]
  },
  {
   "cell_type": "code",
   "execution_count": 137,
   "metadata": {},
   "outputs": [],
   "source": [
    "A=MatrixSymbol('A',3,3)"
   ]
  },
  {
   "cell_type": "code",
   "execution_count": 138,
   "metadata": {},
   "outputs": [
    {
     "data": {
      "image/png": "[encoded data removed]",
      "text/latex": [
       "$$A$$"
      ],
      "text/plain": [
       "A"
      ]
     },
     "execution_count": 138,
     "metadata": {},
     "output_type": "execute_result"
    }
   ],
   "source": [
    "A"
   ]
  },
  {
   "cell_type": "code",
   "execution_count": 140,
   "metadata": {},
   "outputs": [
    {
     "name": "stdout",
     "output_type": "stream",
     "text": [
      "1\n"
     ]
    }
   ],
   "source": [
    "print(diff(F[i,j],F[i,j]))"
   ]
  },
  {
   "cell_type": "code",
   "execution_count": 143,
   "metadata": {},
   "outputs": [
    {
     "name": "stdout",
     "output_type": "stream",
     "text": [
      "KroneckerDelta(i, k)*KroneckerDelta(j, l)\n"
     ]
    }
   ],
   "source": [
    "print(diff(F[k,l],F[i,j]))"
   ]
  },
  {
   "cell_type": "code",
   "execution_count": 145,
   "metadata": {},
   "outputs": [
    {
     "data": {
      "image/png": "[encoded data removed]",
      "text/latex": [
       "$$\\delta_{i k} \\delta_{j l}$$"
      ],
      "text/plain": [
       "KroneckerDelta(i, k)*KroneckerDelta(j, l)"
      ]
     },
     "execution_count": 145,
     "metadata": {},
     "output_type": "execute_result"
    }
   ],
   "source": [
    "from sympy.concrete.delta import _simplify_delta\n",
    "\n",
    "_simplify_delta(diff(F[k,l],F[i,j]))"
   ]
  },
  {
   "cell_type": "code",
   "execution_count": 147,
   "metadata": {},
   "outputs": [],
   "source": [
    "C = F.T*F"
   ]
  },
  {
   "cell_type": "code",
   "execution_count": 163,
   "metadata": {},
   "outputs": [
    {
     "name": "stdout",
     "output_type": "stream",
     "text": [
      "KroneckerDelta(0, k)*KroneckerDelta(i, l)*F[0, j] + KroneckerDelta(0, k)*KroneckerDelta(j, l)*F[0, i] + KroneckerDelta(1, k)*KroneckerDelta(i, l)*F[1, j] + KroneckerDelta(1, k)*KroneckerDelta(j, l)*F[1, i] + KroneckerDelta(2, k)*KroneckerDelta(i, l)*F[2, j] + KroneckerDelta(2, k)*KroneckerDelta(j, l)*F[2, i]\n"
     ]
    },
    {
     "data": {
      "image/png": "[encoded data removed]",
      "text/latex": [
       "$$\\delta_{0 k} \\delta_{i l} F_{0, j} + \\delta_{0 k} \\delta_{j l} F_{0, i} + \\delta_{1 k} \\delta_{i l} F_{1, j} + \\delta_{1 k} \\delta_{j l} F_{1, i} + \\delta_{2 k} \\delta_{i l} F_{2, j} + \\delta_{2 k} \\delta_{j l} F_{2, i}$$"
      ],
      "text/plain": [
       "KroneckerDelta(0, k)*KroneckerDelta(i, l)*F[0, j] + KroneckerDelta(0, k)*KroneckerDelta(j, l)*F[0, i] + KroneckerDelta(1, k)*KroneckerDelta(i, l)*F[1, j] + KroneckerDelta(1, k)*KroneckerDelta(j, l)*F[1, i] + KroneckerDelta(2, k)*KroneckerDelta(i, l)*F[2, j] + KroneckerDelta(2, k)*KroneckerDelta(j, l)*F[2, i]"
      ]
     },
     "execution_count": 163,
     "metadata": {},
     "output_type": "execute_result"
    }
   ],
   "source": [
    "print(diff(C[i,j],F[k,l]))\n",
    "_simplify_delta(diff(C[i,j],F[k,l]))"
   ]
  },
  {
   "cell_type": "code",
   "execution_count": 164,
   "metadata": {},
   "outputs": [
    {
     "data": {
      "image/png": "[encoded data removed]",
      "text/latex": [
       "$$\\delta_{0 k} \\delta_{i l} F_{0, j} + \\delta_{0 k} \\delta_{j l} F_{0, i} + \\delta_{1 k} \\delta_{i l} F_{1, j} + \\delta_{1 k} \\delta_{j l} F_{1, i} + \\delta_{2 k} \\delta_{i l} F_{2, j} + \\delta_{2 k} \\delta_{j l} F_{2, i}$$"
      ],
      "text/plain": [
       "KroneckerDelta(0, k)*KroneckerDelta(i, l)*F[0, j] + KroneckerDelta(0, k)*KroneckerDelta(j, l)*F[0, i] + KroneckerDelta(1, k)*KroneckerDelta(i, l)*F[1, j] + KroneckerDelta(1, k)*KroneckerDelta(j, l)*F[1, i] + KroneckerDelta(2, k)*KroneckerDelta(i, l)*F[2, j] + KroneckerDelta(2, k)*KroneckerDelta(j, l)*F[2, i]"
      ]
     },
     "execution_count": 164,
     "metadata": {},
     "output_type": "execute_result"
    }
   ],
   "source": [
    "simplify(diff(C[i,j],F[k,l]))"
   ]
  },
  {
   "cell_type": "code",
   "execution_count": 152,
   "metadata": {},
   "outputs": [
    {
     "data": {
      "image/png": "[encoded data removed]",
      "text/latex": [
       "$$\\left|{A}\\right|$$"
      ],
      "text/plain": [
       "Determinant(A)"
      ]
     },
     "execution_count": 152,
     "metadata": {},
     "output_type": "execute_result"
    }
   ],
   "source": [
    "Determinant(A)"
   ]
  },
  {
   "cell_type": "code",
   "execution_count": 154,
   "metadata": {},
   "outputs": [
    {
     "data": {
      "image/png": "[encoded data removed]",
      "text/latex": [
       "$$\\varepsilon_{i j k}$$"
      ],
      "text/plain": [
       "LeviCivita(i, j, k)"
      ]
     },
     "execution_count": 154,
     "metadata": {},
     "output_type": "execute_result"
    }
   ],
   "source": [
    "LeviCivita(i,j,k)"
   ]
  },
  {
   "cell_type": "code",
   "execution_count": 156,
   "metadata": {},
   "outputs": [],
   "source": [
    "Finv=Inverse(F)"
   ]
  },
  {
   "cell_type": "code",
   "execution_count": 159,
   "metadata": {},
   "outputs": [
    {
     "data": {
      "image/png": "[encoded data removed]",
      "text/latex": [
       "$$\\frac{d}{d F_{k, l}} \\left|{F}\\right|$$"
      ],
      "text/plain": [
       "Derivative(Determinant(F), F[k, l])"
      ]
     },
     "execution_count": 159,
     "metadata": {},
     "output_type": "execute_result"
    }
   ],
   "source": [
    "diff(Determinant(F),F[k,l])"
   ]
  },
  {
   "cell_type": "code",
   "execution_count": null,
   "metadata": {},
   "outputs": [],
   "source": []
  }
 ],
 "metadata": {
  "kernelspec": {
   "display_name": "Python 3",
   "language": "python",
   "name": "python3"
  },
  "language_info": {
   "codemirror_mode": {
    "name": "ipython",
    "version": 3
   },
   "file_extension": ".py",
   "mimetype": "text/x-python",
   "name": "python",
   "nbconvert_exporter": "python",
   "pygments_lexer": "ipython3",
   "version": "3.6.9"
  }
 },
 "nbformat": 4,
 "nbformat_minor": 2
}
